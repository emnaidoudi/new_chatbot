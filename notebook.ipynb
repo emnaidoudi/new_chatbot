{
 "cells": [
  {
   "cell_type": "code",
   "execution_count": 1,
   "metadata": {},
   "outputs": [],
   "source": [
    "from flask import Flask\n",
    "import numpy as np\n",
    "#nltk.download('punkt')\n",
    "import nltk\n",
    "from nltk.stem.lancaster import LancasterStemmer\n",
    "from nltk.stem.snowball import FrenchStemmer \n",
    "from nltk.corpus import stopwords \n",
    "from spellchecker import SpellChecker"
   ]
  },
  {
   "cell_type": "code",
   "execution_count": 2,
   "metadata": {},
   "outputs": [],
   "source": [
    "sentence = \"who is the manajer of Connect\""
   ]
  },
  {
   "cell_type": "markdown",
   "metadata": {},
   "source": [
    "# Tokenization"
   ]
  },
  {
   "cell_type": "code",
   "execution_count": 3,
   "metadata": {},
   "outputs": [
    {
     "data": {
      "text/plain": [
       "['who', 'is', 'the', 'manajer', 'of', 'Connect']"
      ]
     },
     "execution_count": 3,
     "metadata": {},
     "output_type": "execute_result"
    }
   ],
   "source": [
    "tokenized_sentence = nltk.word_tokenize(sentence)\n",
    "tokenized_sentence"
   ]
  },
  {
   "cell_type": "markdown",
   "metadata": {},
   "source": [
    "# Spell correction"
   ]
  },
  {
   "cell_type": "code",
   "execution_count": 4,
   "metadata": {},
   "outputs": [
    {
     "data": {
      "text/plain": [
       "['who', 'is', 'the', 'manager', 'of', 'Connect']"
      ]
     },
     "execution_count": 4,
     "metadata": {},
     "output_type": "execute_result"
    }
   ],
   "source": [
    "spell = SpellChecker()\n",
    "misspelled=spell.unknown(tokenized_sentence)\n",
    "for i in tokenized_sentence:\n",
    "    if i  in misspelled:\n",
    "        tokenized_sentence[tokenized_sentence.index(i)]=spell.correction(i)\n",
    "         \n",
    "tokenized_sentence"
   ]
  },
  {
   "cell_type": "markdown",
   "metadata": {},
   "source": [
    "# Stope words"
   ]
  },
  {
   "cell_type": "code",
   "execution_count": 5,
   "metadata": {},
   "outputs": [
    {
     "data": {
      "text/plain": [
       "['ils',\n",
       " 'est',\n",
       " 'auras',\n",
       " 'me',\n",
       " 'seras',\n",
       " 'te',\n",
       " 'mais',\n",
       " 'should',\n",
       " 'here',\n",
       " 'wasn',\n",
       " 'for',\n",
       " 'are',\n",
       " 'it',\n",
       " 'what',\n",
       " 'is',\n",
       " 'any',\n",
       " 'myself',\n",
       " 's',\n",
       " 'below',\n",
       " \"you'll\"]"
      ]
     },
     "execution_count": 5,
     "metadata": {},
     "output_type": "execute_result"
    }
   ],
   "source": [
    "#nltk.download('stopwords')\n",
    "def stopwords_list():\n",
    "    return list(set(stopwords.words('french')))+ list(set(stopwords.words('english')))+[\"?\",\"!\",\".\",\";\",\",\"]\n",
    "stopwords_list()[150:170]"
   ]
  },
  {
   "cell_type": "markdown",
   "metadata": {},
   "source": [
    "# Detect langage"
   ]
  },
  {
   "cell_type": "code",
   "execution_count": 6,
   "metadata": {},
   "outputs": [],
   "source": [
    "from textblob import TextBlob"
   ]
  },
  {
   "cell_type": "code",
   "execution_count": 7,
   "metadata": {},
   "outputs": [
    {
     "data": {
      "text/plain": [
       "'en'"
      ]
     },
     "execution_count": 7,
     "metadata": {},
     "output_type": "execute_result"
    }
   ],
   "source": [
    "def detect_language(sentence):\n",
    "    if(len(sentence)>3):\n",
    "        b = TextBlob(sentence)\n",
    "        return b.detect_language()  \n",
    "    else:\n",
    "        return \"en\"\n",
    "    \n",
    "detect_language(\"love\")    "
   ]
  },
  {
   "cell_type": "markdown",
   "metadata": {},
   "source": [
    "# Stemming"
   ]
  },
  {
   "cell_type": "code",
   "execution_count": 8,
   "metadata": {},
   "outputs": [],
   "source": [
    "def stemming(sentence):\n",
    "    sentence=sentence.lower()\n",
    "    lang=detect_language(sentence)\n",
    "    stemmer = LancasterStemmer() if lang==\"en\" else FrenchStemmer()\n",
    "    #stemmer=LancasterStemmer()\n",
    "    return stemmer.stem(sentence)"
   ]
  },
  {
   "cell_type": "code",
   "execution_count": 27,
   "metadata": {
    "scrolled": true
   },
   "outputs": [
    {
     "data": {
      "text/plain": [
       "'man'"
      ]
     },
     "execution_count": 27,
     "metadata": {},
     "output_type": "execute_result"
    }
   ],
   "source": [
    "stemming(\"TRYING\")"
   ]
  },
  {
   "cell_type": "code",
   "execution_count": 10,
   "metadata": {
    "scrolled": false
   },
   "outputs": [
    {
     "data": {
      "text/plain": [
       "'lir'"
      ]
     },
     "execution_count": 10,
     "metadata": {},
     "output_type": "execute_result"
    }
   ],
   "source": [
    "stemming(\"lire\")"
   ]
  },
  {
   "cell_type": "code",
   "execution_count": 25,
   "metadata": {},
   "outputs": [],
   "source": [
    "def nlp_engine(question):\n",
    "    # 1 tokenization\n",
    "    tokenized_question = nltk.word_tokenize(question)\n",
    "    spell = SpellChecker()\n",
    "    # 2 spell correction for each token\n",
    "    misspelled=spell.unknown(tokenized_question)\n",
    "    for i in tokenized_question:\n",
    "        if i  in misspelled:\n",
    "            tokenized_question[tokenized_question.index(i)]=spell.correction(i)\n",
    "    # 3 & 4 & 5 remove stop words & detect language to choose the right stemming algorithm\n",
    "    stopwordslist = stopwords_list()\n",
    "    question_clean = [stemming(w) for w in tokenized_question if w not in stopwordslist ]   \n",
    "    \n",
    "    return question_clean\n",
    "    \n",
    "    "
   ]
  },
  {
   "cell_type": "code",
   "execution_count": 26,
   "metadata": {},
   "outputs": [
    {
     "data": {
      "text/plain": [
       "['man', 'connect']"
      ]
     },
     "execution_count": 26,
     "metadata": {},
     "output_type": "execute_result"
    }
   ],
   "source": [
    "nlp_engine(sentence)"
   ]
  },
  {
   "cell_type": "code",
   "execution_count": 11,
   "metadata": {
    "scrolled": true
   },
   "outputs": [
    {
     "name": "stdout",
     "output_type": "stream",
     "text": [
      "Requirement already satisfied: pyspellchecker in ./venv/lib/python3.6/site-packages\r\n"
     ]
    }
   ],
   "source": [
    "# ! pip install pyspellchecker\n"
   ]
  }
 ],
 "metadata": {
  "kernelspec": {
   "display_name": "venv",
   "language": "python",
   "name": "venv"
  },
  "language_info": {
   "codemirror_mode": {
    "name": "ipython",
    "version": 3
   },
   "file_extension": ".py",
   "mimetype": "text/x-python",
   "name": "python",
   "nbconvert_exporter": "python",
   "pygments_lexer": "ipython3",
   "version": "3.6.9"
  }
 },
 "nbformat": 4,
 "nbformat_minor": 4
}
